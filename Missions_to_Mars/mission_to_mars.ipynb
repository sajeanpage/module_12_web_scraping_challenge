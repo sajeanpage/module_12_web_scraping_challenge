{
 "cells": [
  {
   "cell_type": "code",
   "execution_count": 1,
   "id": "8a962b6d",
   "metadata": {},
   "outputs": [],
   "source": [
    "from webdriver_manager.chrome import ChromeDriverManager\n",
    "from splinter import Browser\n",
    "import requests\n",
    "from bs4 import BeautifulSoup as bs\n",
    "import pprint\n",
    "import pandas as pd"
   ]
  },
  {
   "cell_type": "markdown",
   "id": "859afb98",
   "metadata": {},
   "source": [
    "### Initialization"
   ]
  },
  {
   "cell_type": "code",
   "execution_count": 2,
   "id": "761b8432",
   "metadata": {},
   "outputs": [],
   "source": [
    "# init splinter browser\n",
    "executable_path = {'executable_path': ChromeDriverManager().install()}\n",
    "browser=Browser('chrome', **executable_path, headless = False)"
   ]
  },
  {
   "cell_type": "markdown",
   "id": "7fdab012",
   "metadata": {},
   "source": [
    "### Visit RedpPlanetScience.com"
   ]
  },
  {
   "cell_type": "code",
   "execution_count": 3,
   "id": "629f9f11",
   "metadata": {},
   "outputs": [],
   "source": [
    "url='https://redplanetscience.com/'\n",
    "browser.visit(url)\n",
    "browser.is_element_present_by_css('div.list_text', wait_time=2)\n",
    "response = browser.html"
   ]
  },
  {
   "cell_type": "markdown",
   "id": "d34e3177",
   "metadata": {},
   "source": [
    "### Extract Headlines from website"
   ]
  },
  {
   "cell_type": "code",
   "execution_count": 4,
   "id": "1bc2b218",
   "metadata": {},
   "outputs": [],
   "source": [
    "# parse html for headline card\n",
    "soup = bs(response, 'html.parser')\n",
    "card = soup.find('div','list_text')\n",
    "\n",
    "title = card.find('div','content_title').get_text()\n",
    "preview = card.find('div','article_teaser_body').get_text()  "
   ]
  },
  {
   "cell_type": "markdown",
   "id": "f3007b59",
   "metadata": {},
   "source": [
    "### Find Mars Space Image"
   ]
  },
  {
   "cell_type": "code",
   "execution_count": 5,
   "id": "a23502da",
   "metadata": {},
   "outputs": [],
   "source": [
    "url='https://spaceimages-mars.com'\n",
    "browser.visit(url)\n",
    "image_button = browser.find_by_tag('button')[1]\n",
    "image_button.click()\n",
    "response = browser.html"
   ]
  },
  {
   "cell_type": "markdown",
   "id": "56ec331a",
   "metadata": {},
   "source": [
    "### Extract Image Link from website"
   ]
  },
  {
   "cell_type": "code",
   "execution_count": 6,
   "id": "95c280e3",
   "metadata": {},
   "outputs": [
    {
     "data": {
      "text/plain": [
       "'https://spaceimages-mars.com/image/featured/mars2.jpg'"
      ]
     },
     "execution_count": 6,
     "metadata": {},
     "output_type": "execute_result"
    }
   ],
   "source": [
    "# parse html for image link\n",
    "soup = bs(response, 'html.parser')\n",
    "image_link = soup.find('img', class_= 'fancybox-image').get('src')\n",
    "\n",
    "image_link = f'https://spaceimages-mars.com/{image_link}'\n",
    "image_link"
   ]
  },
  {
   "cell_type": "markdown",
   "id": "375308b9",
   "metadata": {},
   "source": [
    "### Extract Mars Facts"
   ]
  },
  {
   "cell_type": "code",
   "execution_count": 25,
   "id": "77635ba7",
   "metadata": {},
   "outputs": [],
   "source": [
    "url='https://galaxyfacts-mars.com/'\n",
    "browser.visit(url)\n",
    "response = browser.html\n",
    "\n",
    "# parse for html table\n",
    "soup = bs(response, 'html.parser')\n",
    "html_table = soup.find('table')\n",
    "\n",
    "\n",
    "#marsDF = pd.read_html('https://galaxyfacts-mars.com')[0]\n",
    "#marsDF.columns=['Description', 'Mars','Earth']\n",
    "#marsDF.set_index('Description', inplace  = True)\n",
    "#marsDF.to_html()"
   ]
  },
  {
   "cell_type": "code",
   "execution_count": 27,
   "id": "c663f2c2",
   "metadata": {},
   "outputs": [
    {
     "name": "stdout",
     "output_type": "stream",
     "text": [
      "<table class=\"table\">\n",
      "<tbody>\n",
      "<tr>\n",
      "<th scope=\"row\"><b> Mars - Earth Comparison</b></th>\n",
      "<td><span class=\"orange\"><b> Mars</b></span></td>\n",
      "<td><span class=\"purple\"> <b>Earth </b></span> </td>\n",
      "</tr>\n",
      "<tr>\n",
      "<th scope=\"row\">Diameter:</th>\n",
      "<td><span class=\"orange\">6,779 km</span></td>\n",
      "<td><span class=\"purple\">12,742 km</span> </td>\n",
      "</tr>\n",
      "<tr>\n",
      "<th scope=\"row\">Mass:</th>\n",
      "<td><span class=\"orange\">6.39 × 10^23 kg </span></td>\n",
      "<td><span class=\"purple\">5.97 × 10^24 kg</span> </td>\n",
      "</tr>\n",
      "<tr>\n",
      "<th scope=\"row\">Moons:</th>\n",
      "<td><span class=\"orange\">2</span></td>\n",
      "<td><span class=\"purple\">1</span> </td>\n",
      "</tr>\n",
      "<tr>\n",
      "<th scope=\"row\">Distance from Sun:</th>\n",
      "<td><span class=\"orange\">227,943,824 km</span></td>\n",
      "<td><span class=\"purple\">149,598,262 km</span> </td>\n",
      "</tr>\n",
      "<tr>\n",
      "<th scope=\"row\">Length of Year:</th>\n",
      "<td><span class=\"orange\">687 Earth days</span></td>\n",
      "<td><span class=\"purple\">365.24 days</span> </td>\n",
      "</tr>\n",
      "<tr>\n",
      "<th scope=\"row\">Temperature:</th>\n",
      "<td><span class=\"orange\">-87 to -5 °C</span></td>\n",
      "<td><span class=\"purple\">\t-88 to 58°C</span> </td>\n",
      "</tr>\n",
      "</tbody>\n",
      "</table>\n"
     ]
    }
   ],
   "source": [
    "pprint.pprint(html_table)"
   ]
  },
  {
   "cell_type": "markdown",
   "id": "a8e28552",
   "metadata": {},
   "source": [
    "### Extract Mars Hemisphere Information"
   ]
  },
  {
   "cell_type": "code",
   "execution_count": 8,
   "id": "f1545b35",
   "metadata": {},
   "outputs": [],
   "source": [
    "url='https://marshemispheres.com/'\n",
    "browser.visit(url)"
   ]
  },
  {
   "cell_type": "code",
   "execution_count": 9,
   "id": "ac83edb8",
   "metadata": {},
   "outputs": [
    {
     "data": {
      "text/plain": [
       "[{'img_url': 'https://marshemispheres.com/images/full.jpg',\n",
       "  'title': 'Cerberus Hemisphere Enhanced'},\n",
       " {'img_url': 'https://marshemispheres.com/images/schiaparelli_enhanced-full.jpg',\n",
       "  'title': 'Schiaparelli Hemisphere Enhanced'},\n",
       " {'img_url': 'https://marshemispheres.com/images/syrtis_major_enhanced-full.jpg',\n",
       "  'title': 'Syrtis Major Hemisphere Enhanced'},\n",
       " {'img_url': 'https://marshemispheres.com/images/valles_marineris_enhanced-full.jpg',\n",
       "  'title': 'Valles Marineris Hemisphere Enhanced'}]"
      ]
     },
     "execution_count": 9,
     "metadata": {},
     "output_type": "execute_result"
    }
   ],
   "source": [
    "hemisphere_list = []\n",
    "\n",
    "# parse html for image links\n",
    "hemisphere_links = browser.find_by_css('a.product-item img')\n",
    "\n",
    "# navigate through hemisphere links\n",
    "for link_idx in range(len(hemisphere_links)):\n",
    "\n",
    "    browser.find_by_css('a.product-item img')[link_idx].click()\n",
    "    sample = browser.links.find_by_text('Sample').first\n",
    "    \n",
    "    hemisphere = {}\n",
    "    hemisphere['img_url'] = sample ['href'] \n",
    "    hemisphere['title']  = browser.find_by_css('h2.title').text\n",
    "    hemisphere_list.append(hemisphere)\n",
    "\n",
    "    # go back\n",
    "    browser.back()\n",
    "    \n",
    "hemisphere_list"
   ]
  },
  {
   "cell_type": "code",
   "execution_count": 10,
   "id": "7a7b29f8",
   "metadata": {},
   "outputs": [],
   "source": [
    "browser.quit()"
   ]
  },
  {
   "cell_type": "code",
   "execution_count": null,
   "id": "15f2c800",
   "metadata": {},
   "outputs": [],
   "source": []
  }
 ],
 "metadata": {
  "kernelspec": {
   "display_name": "Python 3 (ipykernel)",
   "language": "python",
   "name": "python3"
  },
  "language_info": {
   "codemirror_mode": {
    "name": "ipython",
    "version": 3
   },
   "file_extension": ".py",
   "mimetype": "text/x-python",
   "name": "python",
   "nbconvert_exporter": "python",
   "pygments_lexer": "ipython3",
   "version": "3.9.12"
  },
  "vscode": {
   "interpreter": {
    "hash": "69550dc95037606c14da5f6fc15f757d5fd7785079a3ea6177e5b5143ccbcefb"
   }
  }
 },
 "nbformat": 4,
 "nbformat_minor": 5
}
