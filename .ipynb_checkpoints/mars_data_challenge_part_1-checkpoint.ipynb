{
 "cells": [
  {
   "cell_type": "code",
   "execution_count": 1,
   "id": "8a962b6d",
   "metadata": {},
   "outputs": [],
   "source": [
    "from webdriver_manager.chrome import ChromeDriverManager\n",
    "from splinter import Browser\n",
    "import requests\n",
    "from bs4 import BeautifulSoup as bs\n",
    "import pprint"
   ]
  },
  {
   "cell_type": "markdown",
   "id": "859afb98",
   "metadata": {},
   "source": [
    "### Initialization"
   ]
  },
  {
   "cell_type": "code",
   "execution_count": 2,
   "id": "761b8432",
   "metadata": {},
   "outputs": [],
   "source": [
    "# init splinter browser\n",
    "executable_path = {'executable_path': ChromeDriverManager().install()}\n",
    "browser=Browser('chrome', **executable_path, headless = False)"
   ]
  },
  {
   "cell_type": "markdown",
   "id": "7fdab012",
   "metadata": {},
   "source": [
    "### Visit RedpPlanetScience.com"
   ]
  },
  {
   "cell_type": "code",
   "execution_count": 3,
   "id": "629f9f11",
   "metadata": {},
   "outputs": [],
   "source": [
    "url='https://redplanetscience.com/'\n",
    "browser.visit(url)\n",
    "browser.is_element_present_by_css('div.list_text', wait_time=2)\n",
    "response = browser.html\n",
    "browser.quit()"
   ]
  },
  {
   "cell_type": "markdown",
   "id": "d34e3177",
   "metadata": {},
   "source": [
    "### Extract Headlines from website"
   ]
  },
  {
   "cell_type": "code",
   "execution_count": 4,
   "id": "1bc2b218",
   "metadata": {},
   "outputs": [
    {
     "name": "stdout",
     "output_type": "stream",
     "text": [
      "[{'preview': 'Ready for its launch later in the month, the Mars-bound rover '\n",
      "             'will touch terra firma no more.',\n",
      "  'title': \"NASA's Perseverance Rover Attached to Atlas V Rocket\"},\n",
      " {'preview': 'Instruments tailored to collect data during the descent of '\n",
      "             \"NASA's next rover through the Red Planet's atmosphere have been \"\n",
      "             'checked in flight.',\n",
      "  'title': 'Sensors on Mars 2020 Spacecraft Answer Long-Distance Call From '\n",
      "           'Earth'},\n",
      " {'preview': 'Winners include the JPL-managed \"Send Your Name to Mars\" '\n",
      "             \"campaign, NASA's Global Climate Change website and Solar System \"\n",
      "             'Interactive.',\n",
      "  'title': \"NASA Wins 4 Webbys, 4 People's Voice Awards\"},\n",
      " {'preview': 'Engineers have a plan for pushing down on the heat probe, which '\n",
      "             'has been stuck at the Martian surface for a year.',\n",
      "  'title': \"Mars InSight Lander to Push on Top of the 'Mole'\"},\n",
      " {'preview': 'Now that the heat probe is just below the Martian surface, '\n",
      "             \"InSight's arm will scoop some additional soil on top to help it \"\n",
      "             \"keep digging so it can take Mars' temperature.\",\n",
      "  'title': \"NASA InSight's 'Mole' Is Out of Sight\"},\n",
      " {'preview': 'In a 10-plus-hour marathon, the rover steered, turned and drove '\n",
      "             'in 3-foot (1-meter) increments over small ramps.',\n",
      "  'title': \"NASA's Mars 2020 Rover Completes Its First Drive\"},\n",
      " {'preview': 'Other orbiters will continue relaying data from Mars surface '\n",
      "             'missions for a two-week period.',\n",
      "  'title': \"NASA's Mars Reconnaissance Orbiter Undergoes Memory Update\"},\n",
      " {'preview': \"Teams with NASA's Mars 2020 and ESA's ExoMars practiced hunting \"\n",
      "             'for fossilized microbial life in the Australian Outback in '\n",
      "             'preparation for their Red Planet missions. ',\n",
      "  'title': 'Mars Scientists Investigate Ancient Life in Australia'},\n",
      " {'preview': 'For the first time in the history of space exploration, '\n",
      "             'scientists have measured the seasonal changes in the gases that '\n",
      "             'fill the air directly above the surface of Gale Crater on Mars. ',\n",
      "  'title': 'With Mars Methane Mystery Unsolved, Curiosity Serves Scientists a '\n",
      "           'New One: Oxygen'},\n",
      " {'preview': 'Robotic spacecraft will be able to communicate with the dish '\n",
      "             'using radio waves and lasers.',\n",
      "  'title': 'NASA Prepares for Moon and Mars With New Addition to Its Deep '\n",
      "           'Space Network'},\n",
      " {'preview': \"NASA's Perseverance rover carries a device to convert Martian \"\n",
      "             'air into oxygen that, if produced on a larger scale, could be '\n",
      "             'used not just for breathing, but also for fuel.',\n",
      "  'title': 'MOXIE Could Help Future Rockets Launch Off Mars'},\n",
      " {'preview': 'Want to name the robotic scientist NASA is sending to Mars in '\n",
      "             '2020? The student who named Curiosity — the rover currently '\n",
      "             'exploring Mars — will tell you this is an opportunity worth '\n",
      "             'taking.',\n",
      "  'title': 'Naming a NASA Mars Rover Can Change Your Life'},\n",
      " {'preview': 'As a longtime fan of space exploration, Vaneeza Rupani '\n",
      "             'appreciates the creativity and collaboration involved with '\n",
      "             'trying to fly on another planet.',\n",
      "  'title': \"Q&A with the Student Who Named Ingenuity, NASA's Mars Helicopter\"},\n",
      " {'preview': \"The symbols, mottos, and small objects added to the agency's \"\n",
      "             'newest Mars rover serve a variety of purposes, from functional '\n",
      "             'to decorative.',\n",
      "  'title': \"5 Hidden Gems Are Riding Aboard NASA's Perseverance Rover\"},\n",
      " {'preview': \"After a months-long contest among students to name NASA's newest \"\n",
      "             'Mars rover, the agency will reveal the winning name — and the '\n",
      "             'winning student — this Thursday. ',\n",
      "  'title': 'NASA to Reveal Name of Its Next Mars Rover'}]\n"
     ]
    }
   ],
   "source": [
    "# parse html for cards and save as list of dictionaries\n",
    "headlines = []\n",
    "card_dict = {}\n",
    "\n",
    "soup = bs(response, 'html.parser')\n",
    "cards = soup.find_all('div','list_text')\n",
    "\n",
    "for card in cards:\n",
    "    title = card.find('div','content_title').get_text()\n",
    "    preview = card.find('div','article_teaser_body').get_text()\n",
    "    \n",
    "    card_dict = {}\n",
    "    card_dict['title'] = title\n",
    "    card_dict['preview'] = preview\n",
    "    headlines.append(card_dict)\n",
    "    \n",
    "pprint.pprint(headlines)   "
   ]
  },
  {
   "cell_type": "code",
   "execution_count": null,
   "id": "bacb731f",
   "metadata": {},
   "outputs": [],
   "source": []
  }
 ],
 "metadata": {
  "kernelspec": {
   "display_name": "Python 3 (ipykernel)",
   "language": "python",
   "name": "python3"
  },
  "language_info": {
   "codemirror_mode": {
    "name": "ipython",
    "version": 3
   },
   "file_extension": ".py",
   "mimetype": "text/x-python",
   "name": "python",
   "nbconvert_exporter": "python",
   "pygments_lexer": "ipython3",
   "version": "3.9.12"
  }
 },
 "nbformat": 4,
 "nbformat_minor": 5
}
